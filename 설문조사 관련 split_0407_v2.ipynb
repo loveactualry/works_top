{
 "cells": [
  {
   "cell_type": "markdown",
   "metadata": {},
   "source": [
    "# 설문조사 관련 문자 split_0407"
   ]
  },
  {
   "cell_type": "markdown",
   "metadata": {},
   "source": [
    "- 한 문항에 여러 응답에 대한 분리\n",
    "- , 로 구성\n",
    "- str.split(',', expand=True) 를 사용 \n",
    "- expand=True로 설정 시 col 확장 가능\n",
    "\n",
    "- 추후 단계 -> 진행(0407\n",
    "    - 설문 번호 반복문 작성\n",
    "    - 컬럼 정렬\n",
    "        - 현재 sort 사용하면 문자로 인식 되어 1과 10이 구분이 안됨"
   ]
  },
  {
   "cell_type": "code",
   "execution_count": null,
   "metadata": {
    "ExecuteTime": {
     "end_time": "2021-04-07T11:05:24.772579Z",
     "start_time": "2021-04-07T11:05:24.755507Z"
    }
   },
   "outputs": [],
   "source": [
    "# 패키지 설치. 안되어 있으면 주석 제거\n",
    "# !pip install natsort==3.3.0"
   ]
  },
  {
   "cell_type": "code",
   "execution_count": null,
   "metadata": {
    "ExecuteTime": {
     "end_time": "2021-04-07T11:05:25.520921Z",
     "start_time": "2021-04-07T11:05:25.172148Z"
    }
   },
   "outputs": [],
   "source": [
    "#  데이터 전처리\n",
    "import warnings\n",
    "import pandas as pd\n",
    "\n",
    "# 정렬\n",
    "from natsort import natsorted\n",
    "# jupyter notebook 화면 조정\n",
    "# 참조\n",
    "# https://pandas.pydata.org/pandas-docs/stable/user_guide/options.html\n",
    "\n",
    "from IPython.display import display\n",
    "\n",
    "#pd.set_option('display.height', 500)\n",
    "#pd.set_option('display.max_rows', 500)\n",
    "\n",
    "pd.set_option('display.max_columns', None)  # 컬럼수 늘려주는 명령\n",
    "####### warnings.filterwarnings(\"ignore\") # 경고 안나오게 하는 명령\n",
    "# with pd.option_context('display.max_rows', 100, 'display.max_columns', 100):\n",
    "#    display(df) #need display to show the dataframe when using with in jupyter\n",
    "# some pandas stuff"
   ]
  },
  {
   "cell_type": "code",
   "execution_count": null,
   "metadata": {
    "ExecuteTime": {
     "end_time": "2021-04-07T11:05:27.499006Z",
     "start_time": "2021-04-07T11:05:26.611163Z"
    }
   },
   "outputs": [],
   "source": [
    "#  파일 불러오기\n",
    "df = pd.read_excel('Survey.xlsx', sheet_name='Pet_diagnostic_..._1', skiprows=[\n",
    "                   1, 2])  # 첫번째 두변째 열은 질문이라 skip\n",
    "df.head(1)"
   ]
  },
  {
   "cell_type": "markdown",
   "metadata": {},
   "source": [
    "## 항목 분리\n",
    "\n",
    "- join 이용하여 원 자료에 붙이는 방식\n",
    "- split 이용하여 분리\n",
    "    - 시작이 0번 부터이니 주의\n",
    "    - **1번부터 시작하고 싶으면 다른 방법 사용해야함** <- 이 방법 추천\n",
    "- drop하여 원 컬럼 삭제\n",
    "\n",
    "- 원하는 문항들 넣어서 변경 "
   ]
  },
  {
   "cell_type": "markdown",
   "metadata": {},
   "source": [
    "- 원래 방법\n",
    "    - 0부터 시작해서 다른 방법 찾음"
   ]
  },
  {
   "cell_type": "code",
   "execution_count": null,
   "metadata": {
    "ExecuteTime": {
     "end_time": "2021-04-07T11:05:29.568809Z",
     "start_time": "2021-04-07T11:05:29.443032Z"
    }
   },
   "outputs": [],
   "source": [
    "df_m1 = df.join(df['Q_1_2'].str.split(',', expand=True).add_prefix('Q_1_2_'))\n",
    "df_m1 = df_m1.join(df['Q_8_1'].str.split(\n",
    "    ',', expand=True).add_prefix('Q_8_1_'))\n",
    "df_m1 = df_m1.join(df['Q_20_1'].str.split(\n",
    "    ',', expand=True).add_prefix('Q_20_1_'))\n",
    "df_m1 = df_m1.drop(['Q_1_2', 'Q_8_1', 'Q_20_1'], axis=1)\n",
    "df_m1"
   ]
  },
  {
   "cell_type": "markdown",
   "metadata": {},
   "source": [
    "- 다른 방법\n",
    "    - rename과 lambda 사용하여 int 형태로 작성하여 1부터 시작"
   ]
  },
  {
   "cell_type": "code",
   "execution_count": null,
   "metadata": {
    "ExecuteTime": {
     "end_time": "2021-04-07T11:05:31.856955Z",
     "start_time": "2021-04-07T11:05:31.717060Z"
    }
   },
   "outputs": [],
   "source": [
    "df_m2 = df.join(df['Q_1_2'].str.split(',', expand=True).rename(\n",
    "    columns=lambda x: f\"Q_1_2_{int(x)+1}\"))\n",
    "df_m2 = df_m2.join(df['Q_8_1'].str.split(',', expand=True).rename(\n",
    "    columns=lambda x: f\"Q_8_1_{int(x)+1}\"))\n",
    "df_m2 = df_m2.join(df['Q_20_1'].str.split(',', expand=True).rename(\n",
    "    columns=lambda x: f\"Q_20_1_{int(x)+1}\"))\n",
    "############# 실제 파일 적용시에는 drop 주석 제거 하고 돌리면 됨 ###################\n",
    "# df_m2 = df_m2.drop(['Q_1_2', 'Q_8_1', 'Q_20_1'], axis=1)\n",
    "####################################################################################\n",
    "df_m2"
   ]
  },
  {
   "cell_type": "markdown",
   "metadata": {},
   "source": [
    "## 컬럼 정렬\n",
    "- 설문 관련 정보\n",
    "- 설문 문항 정보\n",
    "\n",
    "- 두가지가 섞여 있어 분리하고 설문 문항만 정렬하고 합침\n",
    "\n",
    "- 설문 문항 중복으로 처음에 .으로 읽혀지는 것들을 _로 변환\n",
    "    - str.replace보다 깔끔한 방법이 있을듯"
   ]
  },
  {
   "cell_type": "code",
   "execution_count": null,
   "metadata": {
    "ExecuteTime": {
     "end_time": "2021-04-07T11:05:34.191085Z",
     "start_time": "2021-04-07T11:05:34.116161Z"
    }
   },
   "outputs": [],
   "source": [
    "# iloc 사용하여 필요한 컬럼 분리\n",
    "# https://pandas.pydata.org/pandas-docs/stable/user_guide/indexing.html#selection-by-position\n",
    "\n",
    "# 설문 관련 정보 분리\n",
    "df_m2_name = df_m2.iloc[:, :3]\n",
    "# 설문 문항 정보 분리\n",
    "df_m2_que = df_m2.iloc[:, 3:]\n",
    "# 분리 확인\n",
    "df_m2_que.head(1)"
   ]
  },
  {
   "cell_type": "code",
   "execution_count": null,
   "metadata": {
    "ExecuteTime": {
     "end_time": "2021-04-07T11:05:39.863805Z",
     "start_time": "2021-04-07T11:05:39.747865Z"
    }
   },
   "outputs": [],
   "source": [
    "# 설문 문항 sort\n",
    "# 설문문항 리스트\n",
    "df_m2_que_list = df_m2_que.columns.values.tolist()\n",
    "# 설문 정보 리스트 user id, survey pack 등\n",
    "df_m2_name_list = df_m2_name.columns.values.tolist()\n",
    "# 설문문항 sort\n",
    "df_m2_que_list_sort = natsorted(df_m2_que_list)\n",
    "# 설문 정보 + 설문 문항 리스트 합치기\n",
    "df_m2_col_list = df_m2_name_list + df_m2_que_list_sort\n",
    "# 확인\n",
    "df_m2_col_list\n",
    "# 컬럼 재정렬\n",
    "df_m2 = df_m2[df_m2_col_list]\n",
    "# . -> _로 변경\n",
    "df_m2_cha = df_m2.reindex(\n",
    "    (df_m2.columns.to_series().str.replace(\".\", \"_\")), axis=1)\n",
    "# 확인\n",
    "df_m2_cha\n",
    "# [sub.replace('.','_') for sub in col_sorted]\n",
    "# natsorted(col_sort_data)"
   ]
  },
  {
   "cell_type": "markdown",
   "metadata": {},
   "source": [
    "- 파일 저장 \n",
    "    - 기존 시트에 덮어 씌우는 것도 가능"
   ]
  },
  {
   "cell_type": "code",
   "execution_count": null,
   "metadata": {
    "ExecuteTime": {
     "end_time": "2021-04-07T11:06:23.911200Z",
     "start_time": "2021-04-07T11:06:22.805188Z"
    }
   },
   "outputs": [],
   "source": [
    "# 덮어쓸 경우 해당 시트 삭제 하고 다시 작성\n",
    "# https://pandas.pydata.org/docs/reference/api/pandas.DataFrame.to_excel.html\n",
    "with pd.ExcelWriter('Survey.xlsx',\n",
    "                    mode='a') as writer:\n",
    "    # df_m2_cha 에서 데이터프레임 입력\n",
    "    df_m2_cha.to_excel(\n",
    "        writer, sheet_name='Pet_diagnostic_preprocess', index=False)"
   ]
  },
  {
   "cell_type": "markdown",
   "metadata": {},
   "source": [
    "- 끝?"
   ]
  },
  {
   "cell_type": "markdown",
   "metadata": {},
   "source": [
    "---------------------------------------\n",
    "나머지는 이런 저런 작업"
   ]
  },
  {
   "cell_type": "code",
   "execution_count": null,
   "metadata": {
    "ExecuteTime": {
     "end_time": "2021-04-07T09:51:44.134073Z",
     "start_time": "2021-04-07T09:51:44.121108Z"
    }
   },
   "outputs": [],
   "source": [
    "collist = df_m2.columns.values.tolist()\n",
    "collist"
   ]
  },
  {
   "cell_type": "code",
   "execution_count": null,
   "metadata": {
    "ExecuteTime": {
     "end_time": "2021-04-07T09:52:07.693430Z",
     "start_time": "2021-04-07T09:52:07.683024Z"
    }
   },
   "outputs": [],
   "source": [
    "collist[:3]"
   ]
  },
  {
   "cell_type": "code",
   "execution_count": null,
   "metadata": {
    "ExecuteTime": {
     "end_time": "2021-04-07T09:40:15.946507Z",
     "start_time": "2021-04-07T09:40:15.939495Z"
    }
   },
   "outputs": [],
   "source": [
    "col_sort_data = collist[3:]\n",
    "col_sorted = natsorted(col_sort_data)\n",
    "col_sorted = [sub.replace('.', '_') for sub in col_sorted]\n",
    "col_sorted"
   ]
  },
  {
   "cell_type": "code",
   "execution_count": null,
   "metadata": {},
   "outputs": [],
   "source": []
  },
  {
   "cell_type": "code",
   "execution_count": null,
   "metadata": {},
   "outputs": [],
   "source": []
  },
  {
   "cell_type": "code",
   "execution_count": null,
   "metadata": {
    "ExecuteTime": {
     "end_time": "2021-04-07T02:22:03.858861Z",
     "start_time": "2021-04-07T02:22:03.259Z"
    }
   },
   "outputs": [],
   "source": [
    "# df = pd.read_csv('test.csv', skiprows=[1,2])"
   ]
  },
  {
   "cell_type": "code",
   "execution_count": null,
   "metadata": {
    "ExecuteTime": {
     "end_time": "2021-04-07T02:22:03.860856Z",
     "start_time": "2021-04-07T02:22:03.261Z"
    }
   },
   "outputs": [],
   "source": [
    "# 컬럼 이름 확인\n",
    "# 나눌 때 참고 하기 위함\n",
    "df.columns"
   ]
  },
  {
   "cell_type": "markdown",
   "metadata": {},
   "source": [
    "## 항목 분리\n",
    "\n",
    "- 사이트\n",
    "- https://pandas.pydata.org/docs/reference/api/pandas.Series.str.split.html \n",
    "- str.split 사용\n",
    "- expand= True 사용하여 컬럼 분리\n",
    "- 설문명.columns 사용하여 컬럼명 표기\n",
    "\n",
    "- 추가\n",
    "    - 컬럼명 반복문으로 작성 가능할듯...?\n",
    "    - 찾아보면 나올듯............................"
   ]
  },
  {
   "cell_type": "code",
   "execution_count": null,
   "metadata": {
    "ExecuteTime": {
     "end_time": "2021-04-07T02:22:03.861879Z",
     "start_time": "2021-04-07T02:22:03.265Z"
    }
   },
   "outputs": [],
   "source": [
    "Q_1_2 = df[\"Q_1_2\"].str.split(',', expand=True)\n",
    "Q_1_2"
   ]
  },
  {
   "cell_type": "code",
   "execution_count": null,
   "metadata": {
    "ExecuteTime": {
     "end_time": "2021-04-07T02:22:03.862849Z",
     "start_time": "2021-04-07T02:22:03.267Z"
    }
   },
   "outputs": [],
   "source": [
    "# 컬럼명 작성을 위해 개수 파악\n",
    "len(Q_1_2.columns)"
   ]
  },
  {
   "cell_type": "code",
   "execution_count": null,
   "metadata": {
    "ExecuteTime": {
     "end_time": "2021-04-07T02:22:03.863846Z",
     "start_time": "2021-04-07T02:22:03.269Z"
    }
   },
   "outputs": [],
   "source": [
    "# 개수 대로 세부 문항 작성\n",
    "# 나중에 list comprehension apply로 대체 가능?\n",
    "# suffix 처리하면 뒤에 _1 _2 붙을듯\n",
    "Q_1_2.columns = ['Q_1_2_1', 'Q_1_2_2', 'Q_1_2_3']"
   ]
  },
  {
   "cell_type": "code",
   "execution_count": null,
   "metadata": {
    "ExecuteTime": {
     "end_time": "2021-04-07T02:22:03.864843Z",
     "start_time": "2021-04-07T02:22:03.272Z"
    }
   },
   "outputs": [],
   "source": [
    "Q_1_2"
   ]
  },
  {
   "cell_type": "code",
   "execution_count": null,
   "metadata": {
    "ExecuteTime": {
     "end_time": "2021-04-07T02:22:03.865947Z",
     "start_time": "2021-04-07T02:22:03.284Z"
    }
   },
   "outputs": [],
   "source": [
    "# concat으로 합침 - 마지막에 합쳐도 가능~~\n",
    "# df = pd.concat([df, Q_1_2], axis = 1)\n",
    "# df.head()"
   ]
  },
  {
   "cell_type": "markdown",
   "metadata": {},
   "source": [
    "- 8번 문항 샘플"
   ]
  },
  {
   "cell_type": "code",
   "execution_count": null,
   "metadata": {
    "ExecuteTime": {
     "end_time": "2021-04-07T02:22:03.866865Z",
     "start_time": "2021-04-07T02:22:03.288Z"
    }
   },
   "outputs": [],
   "source": [
    "Q_8_1 = df[\"Q_8_1\"].str.split(',', expand=True)\n",
    "len(Q_8_1.columns)"
   ]
  },
  {
   "cell_type": "code",
   "execution_count": null,
   "metadata": {
    "ExecuteTime": {
     "end_time": "2021-04-07T02:22:03.868130Z",
     "start_time": "2021-04-07T02:22:03.293Z"
    }
   },
   "outputs": [],
   "source": [
    "Q_8_1.columns = [\"Q_8_1_1\", \"Q_8_1_2\", \"Q_8_1_3\", \"Q_8_1_4\",\n",
    "                 \"Q_8_1_5\", \"Q_8_1_6\", \"Q_8_1_7\", \"Q_8_1_8\", \"Q_8_1_9\"]"
   ]
  },
  {
   "cell_type": "markdown",
   "metadata": {},
   "source": [
    "- 데이터 프레임 합치기\n",
    "\n",
    "    - link1 : https://pandas.pydata.org/docs/user_guide/merging.html#more-concatenating-with-group-keys\n",
    "    - link2 : https://m.blog.naver.com/youji4ever/221731555544"
   ]
  },
  {
   "cell_type": "code",
   "execution_count": null,
   "metadata": {
    "ExecuteTime": {
     "end_time": "2021-04-07T02:22:03.868900Z",
     "start_time": "2021-04-07T02:22:03.302Z"
    }
   },
   "outputs": [],
   "source": [
    "# 데이터 프레임 여러개 가능!\n",
    "\n",
    "df = pd.concat([df, Q_1_2, Q_8_1], axis=1)\n",
    "df.head()\n",
    "# sample.columns = ['Q_1_2_1', 'Q_1_2_2', 'Q_1_2_3']"
   ]
  },
  {
   "cell_type": "markdown",
   "metadata": {},
   "source": [
    "## 컬럼 순서 정렬하여 번호 순으로 메기"
   ]
  },
  {
   "cell_type": "code",
   "execution_count": null,
   "metadata": {
    "ExecuteTime": {
     "end_time": "2021-04-07T04:13:34.654640Z",
     "start_time": "2021-04-07T04:13:34.642030Z"
    }
   },
   "outputs": [],
   "source": [
    "collist = df.columns.values.tolist()\n",
    "sorted(collist, reverse=False)"
   ]
  },
  {
   "cell_type": "code",
   "execution_count": null,
   "metadata": {
    "ExecuteTime": {
     "end_time": "2021-04-07T04:14:58.818380Z",
     "start_time": "2021-04-07T04:14:58.803420Z"
    }
   },
   "outputs": [],
   "source": [
    "collist[3:]"
   ]
  },
  {
   "cell_type": "code",
   "execution_count": null,
   "metadata": {
    "ExecuteTime": {
     "end_time": "2021-04-07T04:13:46.754937Z",
     "start_time": "2021-04-07T04:13:46.738313Z"
    }
   },
   "outputs": [],
   "source": [
    "from natsort import natsorted"
   ]
  },
  {
   "cell_type": "code",
   "execution_count": null,
   "metadata": {
    "ExecuteTime": {
     "end_time": "2021-04-07T04:13:57.652156Z",
     "start_time": "2021-04-07T04:13:57.634171Z"
    }
   },
   "outputs": [],
   "source": [
    "natsorted(collist)"
   ]
  },
  {
   "cell_type": "code",
   "execution_count": null,
   "metadata": {
    "ExecuteTime": {
     "end_time": "2021-04-07T04:15:21.908496Z",
     "start_time": "2021-04-07T04:15:21.891542Z"
    }
   },
   "outputs": [],
   "source": [
    "natsorted(collist[3:])"
   ]
  },
  {
   "cell_type": "code",
   "execution_count": null,
   "metadata": {},
   "outputs": [],
   "source": []
  }
 ],
 "metadata": {
  "kernelspec": {
   "display_name": "Python 3",
   "language": "python",
   "name": "python3"
  },
  "language_info": {
   "codemirror_mode": {
    "name": "ipython",
    "version": 3
   },
   "file_extension": ".py",
   "mimetype": "text/x-python",
   "name": "python",
   "nbconvert_exporter": "python",
   "pygments_lexer": "ipython3",
   "version": "3.8.1"
  },
  "toc": {
   "base_numbering": 1,
   "nav_menu": {},
   "number_sections": true,
   "sideBar": true,
   "skip_h1_title": false,
   "title_cell": "Table of Contents",
   "title_sidebar": "Contents",
   "toc_cell": false,
   "toc_position": {},
   "toc_section_display": true,
   "toc_window_display": false
  },
  "varInspector": {
   "cols": {
    "lenName": 16,
    "lenType": 16,
    "lenVar": 40
   },
   "kernels_config": {
    "python": {
     "delete_cmd_postfix": "",
     "delete_cmd_prefix": "del ",
     "library": "var_list.py",
     "varRefreshCmd": "print(var_dic_list())"
    },
    "r": {
     "delete_cmd_postfix": ") ",
     "delete_cmd_prefix": "rm(",
     "library": "var_list.r",
     "varRefreshCmd": "cat(var_dic_list()) "
    }
   },
   "types_to_exclude": [
    "module",
    "function",
    "builtin_function_or_method",
    "instance",
    "_Feature"
   ],
   "window_display": false
  }
 },
 "nbformat": 4,
 "nbformat_minor": 4
}
