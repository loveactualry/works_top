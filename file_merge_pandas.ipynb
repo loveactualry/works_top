{
 "cells": [
  {
   "cell_type": "code",
   "execution_count": null,
   "metadata": {},
   "outputs": [],
   "source": [
    "import glob\n",
    "import os\n",
    "import pandas as pd\n",
    "\n",
    "os.chdir(r\"path\")\n",
    "extension = 'xlsx'\n",
    "\n",
    "all_filenames = [i for i in glob.glob('*.{}'.format(extension))]"
   ]
  },
  {
   "cell_type": "code",
   "execution_count": null,
   "metadata": {},
   "outputs": [],
   "source": [
    "file_list = []\n",
    "for f in all_filenames:\n",
    "    data = pd.read_excel(f, sheet_name='Sheet1', skiprows=range(3), header=[0], skipfooter=1,dtype={'회원번호': str})\n",
    "    data['source_file'] = f  # create a column with the name of the file\n",
    "    data = data[['No.', '포스\\n번호', '영수증\\n번호', '결제시각', '구분', '총매출액', '회원번호', '최초\\n주문시각', 'source_file']]\n",
    "    file_list.append(data)\n",
    "\n",
    "combined_1 = pd.concat(file_list, axis=0, ignore_index=True)"
   ]
  },
  {
   "cell_type": "code",
   "execution_count": null,
   "metadata": {},
   "outputs": [],
   "source": [
    "combined = combined_1"
   ]
  },
  {
   "cell_type": "code",
   "execution_count": null,
   "metadata": {},
   "outputs": [],
   "source": [
    "combined['date'] = combined['source_file'].str.extract('(\\d+)')\n",
    "combined['date'] = pd.to_datetime(combined['date'], format='%y%m%d')\n",
    "combined['결제시각'] = pd.to_datetime(combined['결제시각'],format= '%H:%M:%S' ).dt.time\n",
    "combined['최초\\n주문시각'] = pd.to_datetime(combined['결제시각'],format= '%H:%M:%S' ).dt.time\n",
    "combined = combined.dropna(subset = ['No.'], axis = 0)\n",
    "combined.head()"
   ]
  },
  {
   "cell_type": "code",
   "execution_count": null,
   "metadata": {},
   "outputs": [],
   "source": [
    "combined.to_excel( \"combined.xlsx\",  encoding='utf-8-sig')"
   ]
  }
 ],
 "metadata": {
  "kernelspec": {
   "display_name": "Python 3.8.1 64-bit",
   "language": "python",
   "name": "python38164bit29fe6e30e7fe4f7baf2e02199515301e"
  },
  "language_info": {
   "codemirror_mode": {
    "name": "ipython",
    "version": 3
   },
   "file_extension": ".py",
   "mimetype": "text/x-python",
   "name": "python",
   "nbconvert_exporter": "python",
   "pygments_lexer": "ipython3",
   "version": "3.8.1"
  }
 },
 "nbformat": 4,
 "nbformat_minor": 4
}
